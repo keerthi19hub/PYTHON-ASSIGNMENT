{
 "cells": [
  {
   "cell_type": "code",
   "execution_count": null,
   "id": "36a8316e-fb23-4890-a678-9de02d2c7d98",
   "metadata": {},
   "outputs": [],
   "source": []
  },
  {
   "cell_type": "code",
   "execution_count": 35,
   "id": "c3813545-3679-430f-abe0-473e73685cfd",
   "metadata": {
    "scrolled": true
   },
   "outputs": [
    {
     "name": "stdin",
     "output_type": "stream",
     "text": [
      "enter a number: 10\n",
      "enter a number: 3\n"
     ]
    },
    {
     "name": "stdout",
     "output_type": "stream",
     "text": [
      "addition: 13\n",
      "subtraction: 7\n",
      "multiplication: 30\n",
      "division: 3.3333333333333335\n",
      "modulus: 1\n",
      "exponential: 1000\n",
      "floor division: 3\n"
     ]
    }
   ],
   "source": [
    "#program 1-arithmetic operators\n",
    "a=int(input(\"enter a number:\"))\n",
    "b=int(input(\"enter a number:\"))\n",
    "print(\"addition:\",a+b)#addition\n",
    "print(\"subtraction:\",a-b)#subtraction\n",
    "print(\"multiplication:\",a*b)#multiplication\n",
    "print(\"division:\",a/b)#division\n",
    "print(\"modulus:\",a%b)#remainder\n",
    "print(\"exponential:\",a**b)#quotient\n",
    "print(\"floor division:\",a//b)#without decimal point only integers"
   ]
  },
  {
   "cell_type": "code",
   "execution_count": 47,
   "id": "b1e8bf12-707f-40fc-8094-ef68fc3ae91d",
   "metadata": {
    "jp-MarkdownHeadingCollapsed": true
   },
   "outputs": [
    {
     "name": "stdin",
     "output_type": "stream",
     "text": [
      "enter first number 15\n",
      "enter second number 100\n"
     ]
    },
    {
     "name": "stdout",
     "output_type": "stream",
     "text": [
      "a is lesser than b\n"
     ]
    }
   ],
   "source": [
    "#program 2-comparism operators\n",
    "a=int(input(\"enter first number\"))\n",
    "b=int(input(\"enter second number\"))\n",
    "if a>b:\n",
    "   print(\"a is greater than b\")#if first one is greater than the second\n",
    "elif a==b:\n",
    "    print(\"a and b are equal\")#if both first and second are equal\n",
    "elif a<=b:\n",
    "    print(\"a is lesser than b\")#if first one is lesser than the second\n",
    "else:\n",
    "    print(\"do nothing\")#if not greater,smaller and equal print nothing\n",
    "    \n"
   ]
  },
  {
   "cell_type": "code",
   "execution_count": 13,
   "id": "ae5018c4-7d0a-4b7f-acbe-a71215862e41",
   "metadata": {},
   "outputs": [
    {
     "name": "stdout",
     "output_type": "stream",
     "text": [
      "False\n",
      "False\n",
      "True\n",
      "True\n",
      "True\n",
      "True\n",
      "False\n",
      "True\n",
      "False\n"
     ]
    }
   ],
   "source": [
    "#program 3-logical operators\n",
    "a=True\n",
    "b=False\n",
    "c=True\n",
    "print(a and b)\n",
    "print(b and a)\n",
    "print(a and c)\n",
    "print(a or b)\n",
    "print(b or a)\n",
    "print(a or c)\n",
    "print(not a)\n",
    "print(not b)\n",
    "print(not c)\n",
    "\n"
   ]
  },
  {
   "cell_type": "code",
   "execution_count": 7,
   "id": "888dd431-193c-4526-9a7b-60599721e5ad",
   "metadata": {},
   "outputs": [
    {
     "name": "stdin",
     "output_type": "stream",
     "text": [
      "enter the string  keerthi\n"
     ]
    },
    {
     "name": "stdout",
     "output_type": "stream",
     "text": [
      "7\n",
      "k i\n",
      "ihtreek\n",
      "KEERTHI\n",
      "keerthi\n"
     ]
    }
   ],
   "source": [
    "#program 4-string manipulation\n",
    "a=input(\"enter the string \")\n",
    "print(len(a))#to find length of string\n",
    "print(a[0],a[-1])#find first and second word\n",
    "print(a[::-1])#reverse the string\n",
    "print(a.upper())#capital words,uppercase\n",
    "print(a.lower())#lower case \n"
   ]
  },
  {
   "cell_type": "code",
   "execution_count": 1,
   "id": "12abd416-ceb6-4242-889f-7c3b5dc87d3a",
   "metadata": {},
   "outputs": [
    {
     "name": "stdin",
     "output_type": "stream",
     "text": [
      "enter your name= keerthi\n",
      "enter your age= 18\n"
     ]
    },
    {
     "name": "stdout",
     "output_type": "stream",
     "text": [
      "Hello keerthi you are 18 years old\n"
     ]
    }
   ],
   "source": [
    "#program 5-string formating\n",
    "name=input(\"enter your name=\")#enter name\n",
    "age=int(input(\"enter your age=\"))#enter age\n",
    "print(\"Hello\",name,\"you are\",age,\"years old\")#print hello,you are,years old in double quotes as they need to be printed in the output."
   ]
  },
  {
   "cell_type": "code",
   "execution_count": 3,
   "id": "77d5cf11-53d6-45be-ba18-6aee0f13de49",
   "metadata": {},
   "outputs": [
    {
     "name": "stdin",
     "output_type": "stream",
     "text": [
      "sentence: twinkle twinkle little star\n",
      "enter a word: little\n"
     ]
    },
    {
     "name": "stdout",
     "output_type": "stream",
     "text": [
      "16\n"
     ]
    }
   ],
   "source": [
    "#program 6-substring search\n",
    "x=str(input(\"sentence:\"))\n",
    "y=str(input(\"enter a word:\"))\n",
    "print(x.index(y))#to include both sentence and word we use x.index(y)"
   ]
  },
  {
   "cell_type": "code",
   "execution_count": 1,
   "id": "8792b1cd-f477-4ae2-9a4b-459af9ea6c9e",
   "metadata": {},
   "outputs": [
    {
     "name": "stdin",
     "output_type": "stream",
     "text": [
      "enter the number 1: 10\n",
      "enter the number 2: 30\n",
      "enter the number 3: 50\n",
      "enter the number 4: 70\n",
      "enter the number 5: 90\n"
     ]
    },
    {
     "name": "stdout",
     "output_type": "stream",
     "text": [
      "[(10, 30, 50, 70)]\n",
      "160\n",
      "70\n",
      "10\n"
     ]
    }
   ],
   "source": [
    "#program 7-list operations\n",
    "a=int(input(\"enter the number 1:\"))\n",
    "b=int(input(\"enter the number 2:\"))\n",
    "c=int(input(\"enter the number 3:\"))\n",
    "d=int(input(\"enter the number 4:\"))\n",
    "e=int(input(\"enter the number 5:\"))\n",
    "f=(a,b,c,d)\n",
    "print([f])\n",
    "print(sum(f))\n",
    "print(max(f))#Largest number\n",
    "print(min(f))#smallest number"
   ]
  },
  {
   "cell_type": "code",
   "execution_count": 11,
   "id": "b09dd683-148b-4270-8272-735df014d64e",
   "metadata": {},
   "outputs": [
    {
     "name": "stdout",
     "output_type": "stream",
     "text": [
      "['mango', 'orange', 'apple', 'kiwi', 'banana']\n",
      "['mango', 'orange', 'apple', 'kiwi', 'banana', 'pineapple']\n",
      "['mango', 'apple', 'kiwi', 'banana', 'pineapple']\n"
     ]
    }
   ],
   "source": [
    "fruits=[\"mango\",\"orange\",\"apple\",\"kiwi\",\"banana\"]\n",
    "print(fruits)\n",
    "fruits.append(\"pineapple\")#to add a fruit\n",
    "print(fruits)\n",
    "fruits.remove(\"orange\")#to remove a fruit\n",
    "print(fruits)\n"
   ]
  },
  {
   "cell_type": "code",
   "execution_count": 7,
   "id": "0e8297ad-591e-4ec3-8627-8265ed41b11c",
   "metadata": {},
   "outputs": [
    {
     "name": "stdin",
     "output_type": "stream",
     "text": [
      "Enter the number 1: 2\n",
      "Enter the number 2: 4\n",
      "Enter the number 3: 6\n",
      "Enter the number 4: 8\n",
      "Enter the number 5: 10\n"
     ]
    },
    {
     "name": "stdout",
     "output_type": "stream",
     "text": [
      "Ascending Order of the list: [2, 4, 6, 8, 10]\n",
      "Descending Order of the list: [10, 8, 6, 4, 2]\n"
     ]
    }
   ],
   "source": [
    "#Program 9-sorting a list\n",
    "A = int(input(\"Enter the number 1:\"))\n",
    "B = int(input(\"Enter the number 2:\"))\n",
    "C = int(input(\"Enter the number 3:\"))\n",
    "D = int(input(\"Enter the number 4:\"))\n",
    "E = int(input(\"Enter the number 5:\"))\n",
    "f = [A, B, C, D, E]\n",
    "f.sort()#sort the list in ascending order\n",
    "print(\"Ascending Order of the list:\",f)\n",
    "f.sort(reverse=True)#sort the list in descending order\n",
    "print(\"Descending Order of the list:\",f)"
   ]
  },
  {
   "cell_type": "code",
   "execution_count": 9,
   "id": "d44d0537-4fe0-45f5-a546-0c2e17be32b6",
   "metadata": {},
   "outputs": [
    {
     "name": "stdout",
     "output_type": "stream",
     "text": [
      "[1, 2, 3, 4, 5]\n",
      "[6, 7, 8, 9, 10]\n",
      "[2, 3, 4, 5, 6, 7]\n"
     ]
    }
   ],
   "source": [
    "#program 10-list slicing\n",
    "numbers=[1,2,3,4,5,6,7,8,9,10]\n",
    "print(numbers[:5])#to print starting 5 numbers\n",
    "print(numbers[-5:])#to print the numbers after 5\n",
    "print(numbers[1:7])#to print the numbers from 1t07 leaving 1"
   ]
  },
  {
   "cell_type": "code",
   "execution_count": 3,
   "id": "909d9adc-e428-4ee5-a504-602bb3abd31c",
   "metadata": {},
   "outputs": [
    {
     "name": "stdin",
     "output_type": "stream",
     "text": [
      "Enter student name: Keerthi\n",
      "Enter score 1:  95\n",
      "Enter score 2:  92\n",
      "Enter score 3:  89\n",
      "Enter student name: Srujana\n",
      "Enter score 1:  87\n",
      "Enter score 2:  93\n",
      "Enter score 3:  85\n",
      "Enter student name: Riya\n",
      "Enter score 1:  92\n",
      "Enter score 2:  85\n",
      "Enter score 3:  99\n"
     ]
    },
    {
     "name": "stdout",
     "output_type": "stream",
     "text": [
      "Keerthi 's average score:' 92.0\n",
      "Srujana 's average score:' 88.33333333333333\n",
      "Riya 's average score:' 92.0\n"
     ]
    }
   ],
   "source": [
    "#BONUS QUESTION\n",
    "students = []\n",
    "for _ in range(3):\n",
    "    name = input(\"Enter student name:\")\n",
    "    scores=[float(input(f\"Enter score {i+1}: \")) for i in range(3)]\n",
    "    students.append([name,scores])\n",
    "for student in students:\n",
    "    avg = sum(student[1])/3\n",
    "    print(student[0], \"'s average score:'\",avg)"
   ]
  },
  {
   "cell_type": "code",
   "execution_count": null,
   "id": "a8ab1fd4-0176-454c-a70c-29310bdca7d8",
   "metadata": {},
   "outputs": [],
   "source": []
  }
 ],
 "metadata": {
  "kernelspec": {
   "display_name": "Python 3 (ipykernel)",
   "language": "python",
   "name": "python3"
  },
  "language_info": {
   "codemirror_mode": {
    "name": "ipython",
    "version": 3
   },
   "file_extension": ".py",
   "mimetype": "text/x-python",
   "name": "python",
   "nbconvert_exporter": "python",
   "pygments_lexer": "ipython3",
   "version": "3.12.4"
  }
 },
 "nbformat": 4,
 "nbformat_minor": 5
}
